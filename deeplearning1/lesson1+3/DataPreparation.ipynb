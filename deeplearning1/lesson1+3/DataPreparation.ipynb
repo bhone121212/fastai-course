{
 "cells": [
  {
   "cell_type": "markdown",
   "metadata": {},
   "source": [
    "# Dogs vs Cats Transfer Learning Data Preparation"
   ]
  },
  {
   "cell_type": "markdown",
   "metadata": {},
   "source": [
    "Transfer learning can be used to use a pre-trained to learn new classes. The lesson uses networks trained on ImageNet to learn a new classifier to predict if an image is a dog or a cat\n",
    "\n",
    "This notebook converts the folders and files of data into structured TFRecord files for Tensorflow consumption"
   ]
  },
  {
   "cell_type": "code",
   "execution_count": null,
   "metadata": {},
   "outputs": [],
   "source": [
    "import sys\n",
    "import os\n",
    "import numpy as np\n",
    "import tensorflow as tf\n",
    "import urllib\n",
    "import glob\n",
    "import pickle\n",
    "from zipfile import ZipFile\n",
    "from PIL import Image\n",
    "from concurrent.futures import ProcessPoolExecutor"
   ]
  },
  {
   "cell_type": "code",
   "execution_count": null,
   "metadata": {},
   "outputs": [],
   "source": [
    "tf.__version__"
   ]
  },
  {
   "cell_type": "markdown",
   "metadata": {},
   "source": [
    "Data can be obtained from [Kaggle web](https://www.kaggle.com/c/dogs-vs-cats/data) and I have put into the `data_dir` location. This is super easy on a remote machine also using the [kaggle-cli](https://github.com/floydwch/kaggle-cli)"
   ]
  },
  {
   "cell_type": "code",
   "execution_count": null,
   "metadata": {},
   "outputs": [],
   "source": [
    "data_dir = os.path.expanduser(os.getcwd(), 'data')\n",
    "if not os.path.isdir(data_dir):\n",
    "    os.makedirs(data_dir)\n",
    "\n",
    "dev_data_dir = os.path.join(data_dir, 'dev')\n",
    "train_data_dir = os.path.join(data_dir, 'train')\n",
    "test_data_dir = os.path.join(data_dir, 'test1')\n",
    "validation_data_dir = os.path.join(data_dir, 'validation')"
   ]
  },
  {
   "cell_type": "code",
   "execution_count": null,
   "metadata": {},
   "outputs": [],
   "source": [
    "def ensure_extracted(path, data_dir):\n",
    "    if not os.path.isdir(path):\n",
    "        with ZipFile(path + '.zip') as z:\n",
    "            z.extractall(path=data_dir)\n",
    "ensure_extracted(test_data_dir, data_dir)\n",
    "ensure_extracted(train_data_dir, data_dir)"
   ]
  },
  {
   "cell_type": "markdown",
   "metadata": {},
   "source": [
    "Get a class name to indice mapping as our network will predict integers"
   ]
  },
  {
   "cell_type": "markdown",
   "metadata": {},
   "source": [
    "## Class to index mapping"
   ]
  },
  {
   "cell_type": "markdown",
   "metadata": {},
   "source": [
    "Downloading files to a local disk for all intermediate processing, but output records will go onto a mapped Azure file share to be used by the training task. Use the `afs_data_dir` for these outputs from here out."
   ]
  },
  {
   "cell_type": "code",
   "execution_count": null,
   "metadata": {},
   "outputs": [],
   "source": [
    "afs_data_dir = '/afs/DogsVsCats'\n",
    "if not os.path.isdir(afs_data_dir):\n",
    "    os.makedirs(afs_data_dir)"
   ]
  },
  {
   "cell_type": "code",
   "execution_count": null,
   "metadata": {},
   "outputs": [],
   "source": [
    "class2idx = { 'dog': 0, 'cat': 1 }"
   ]
  },
  {
   "cell_type": "code",
   "execution_count": null,
   "metadata": {},
   "outputs": [],
   "source": [
    "with open(os.path.join(afs_data_dir, 'class2idx.p'), 'wb') as p:\n",
    "    pickle.dump(class2idx, p)"
   ]
  },
  {
   "cell_type": "markdown",
   "metadata": {},
   "source": [
    "Construct a numpy array of tuples for the dataset: `(filename, label)` for each sample"
   ]
  },
  {
   "cell_type": "code",
   "execution_count": null,
   "metadata": {},
   "outputs": [],
   "source": [
    "full_train_dataset = np.array([(os.path.join(train_data_dir, filename), class2idx[filename[:3]]) for filename in os.listdir(train_data_dir)])\n",
    "np.random.shuffle(full_train_dataset)"
   ]
  },
  {
   "cell_type": "markdown",
   "metadata": {},
   "source": [
    "I'm using a 'dev' set as only 10 samples. This is particularly useful when developing to ensure that the graph executes as expected. It's much quicker to go through 10 samples than a single epoch of the full training set :) "
   ]
  },
  {
   "cell_type": "code",
   "execution_count": null,
   "metadata": {},
   "outputs": [],
   "source": [
    "# Small sample to get operational\n",
    "dev_dataset = full_train_dataset[:10]"
   ]
  },
  {
   "cell_type": "code",
   "execution_count": null,
   "metadata": {},
   "outputs": [],
   "source": [
    "#200 Validation samples\n",
    "validation_dataset = full_train_dataset[-200:]\n",
    "train_dataset = full_train_dataset[:-200]"
   ]
  },
  {
   "cell_type": "markdown",
   "metadata": {},
   "source": [
    "Test dataset has `None` as labels just so the TFRecords are consistent for all data"
   ]
  },
  {
   "cell_type": "code",
   "execution_count": null,
   "metadata": {},
   "outputs": [],
   "source": [
    "test_dataset = np.array([(os.path.join(test_data_dir, filename), None) for filename in os.listdir(test_data_dir)])"
   ]
  },
  {
   "cell_type": "markdown",
   "metadata": {},
   "source": [
    "## TFRecord Conversion"
   ]
  },
  {
   "cell_type": "markdown",
   "metadata": {},
   "source": [
    "We will read in each image from their directory and serialize the sample into the TFRecord format"
   ]
  },
  {
   "cell_type": "code",
   "execution_count": null,
   "metadata": {},
   "outputs": [],
   "source": [
    "def _int64_feature(value):\n",
    "    return tf.train.Feature(int64_list=tf.train.Int64List(value=[value]))\n",
    "\n",
    "def _bytes_feature(value):\n",
    "    return tf.train.Feature(bytes_list=tf.train.BytesList(value=[value]))\n",
    "\n",
    "def convert_to_tfrecord(dataset_name, dataset, segments=1):\n",
    "    \n",
    "    def _to_record(dataset, name):\n",
    "        with tf.python_io.TFRecordWriter(name) as writer:\n",
    "            dataset_length = len(dataset)\n",
    "            for index, (filename, label) in enumerate(dataset):\n",
    "                sys.stdout.write(\"\\rProcessing sample \" + str(index+1) + \" of \" + str(dataset_length))\n",
    "                sys.stdout.flush()\n",
    "                \n",
    "                # Open and make images constant size\n",
    "                image = Image.open(filename).resize((224, 224))\n",
    "                \n",
    "                image_raw = ((np.array(image) / 255.) - 0.5).astype(np.float32).tobytes() # Normalize image to -0.5 -> 0.5\n",
    "                \n",
    "                features = {\n",
    "                    'image': _bytes_feature(image_raw),\n",
    "                    'label': _int64_feature(int(label) if label else -1)\n",
    "                }\n",
    "                \n",
    "                example = tf.train.Example(features=tf.train.Features(feature=features))\n",
    "                writer.write(example.SerializeToString())\n",
    "            print()\n",
    "            \n",
    "    sharded_dataset = np.array_split(dataset, segments)\n",
    "    for index, sub_dataset in enumerate(sharded_dataset):\n",
    "        filename = os.path.join(afs_data_dir, dataset_name + \"-\" + str(index) + \".tfrecord\")\n",
    "        print('Generating records into ' + filename)\n",
    "        _to_record(sub_dataset, filename)"
   ]
  },
  {
   "cell_type": "code",
   "execution_count": null,
   "metadata": {},
   "outputs": [],
   "source": [
    "convert_to_tfrecord('dev', dev_dataset)"
   ]
  },
  {
   "cell_type": "code",
   "execution_count": null,
   "metadata": {},
   "outputs": [],
   "source": [
    "convert_to_tfrecord('validation', validation_dataset, segments=3)"
   ]
  },
  {
   "cell_type": "code",
   "execution_count": null,
   "metadata": {},
   "outputs": [],
   "source": [
    "convert_to_tfrecord('test', test_dataset, segments=3)"
   ]
  },
  {
   "cell_type": "code",
   "execution_count": null,
   "metadata": {},
   "outputs": [],
   "source": [
    "convert_to_tfrecord('train', train_dataset, segments=10)"
   ]
  },
  {
   "cell_type": "code",
   "execution_count": null,
   "metadata": {},
   "outputs": [],
   "source": []
  }
 ],
 "metadata": {
  "kernelspec": {
   "display_name": "Python 3",
   "language": "python",
   "name": "python3"
  },
  "language_info": {
   "codemirror_mode": {
    "name": "ipython",
    "version": 3
   },
   "file_extension": ".py",
   "mimetype": "text/x-python",
   "name": "python",
   "nbconvert_exporter": "python",
   "pygments_lexer": "ipython3",
   "version": "3.5.2"
  }
 },
 "nbformat": 4,
 "nbformat_minor": 2
}
