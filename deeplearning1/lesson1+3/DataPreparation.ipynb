{
 "cells": [
  {
   "cell_type": "markdown",
   "metadata": {},
   "source": [
    "# Dogs vs Cats Transfer Learning Data Preparation"
   ]
  },
  {
   "cell_type": "markdown",
   "metadata": {},
   "source": [
    "Transfer learning can be used to use a pre-trained to learn new classes. The lesson uses networks trained on ImageNet to learn a new classifier to predict if an image is a dog or a cat\n",
    "\n",
    "This notebook converts the folders and files of data into structured TFRecord files for Tensorflow consumption"
   ]
  },
  {
   "cell_type": "code",
   "execution_count": 20,
   "metadata": {},
   "outputs": [],
   "source": [
    "import pickle\n",
    "import sys\n",
    "from pathlib import Path\n",
    "import numpy as np\n",
    "from PIL import Image\n",
    "import tensorflow as tf\n",
    "from typing import List, Union, Tuple"
   ]
  },
  {
   "cell_type": "markdown",
   "metadata": {},
   "source": [
    "Data can be obtained from Kaggle web and I have put into the `data_dir` location"
   ]
  },
  {
   "cell_type": "code",
   "execution_count": 2,
   "metadata": {
    "collapsed": true
   },
   "outputs": [],
   "source": [
    "data_dir = Path.home() / 'data/DogsVsCats'\n",
    "\n",
    "dev_data_dir = data_dir / 'dev'\n",
    "train_data_dir = data_dir / 'train'\n",
    "test_data_dir = data_dir / 'test1'\n",
    "validation_data_dir = data_dir / 'validation'"
   ]
  },
  {
   "cell_type": "markdown",
   "metadata": {},
   "source": [
    "Get a class name to indice mapping as our network will predict integers"
   ]
  },
  {
   "cell_type": "markdown",
   "metadata": {},
   "source": [
    "## Class to index mapping"
   ]
  },
  {
   "cell_type": "code",
   "execution_count": 3,
   "metadata": {
    "collapsed": true
   },
   "outputs": [],
   "source": [
    "class2idx = { label.name: index for index, label in enumerate(dev_data_dir.iterdir()) }"
   ]
  },
  {
   "cell_type": "code",
   "execution_count": 4,
   "metadata": {
    "collapsed": true
   },
   "outputs": [],
   "source": [
    "with (data_dir / 'class2idx.p').open('wb') as p:\n",
    "    pickle.dump(class2idx, p)"
   ]
  },
  {
   "cell_type": "markdown",
   "metadata": {},
   "source": [
    "## TFRecord Conversion"
   ]
  },
  {
   "cell_type": "markdown",
   "metadata": {},
   "source": [
    "We will read in each image from their directory and serialize the sample into the TFRecord format"
   ]
  },
  {
   "cell_type": "code",
   "execution_count": 17,
   "metadata": {},
   "outputs": [],
   "source": [
    "def _int64_feature(value: int) -> tf.train.Feature:\n",
    "    return tf.train.Feature(int64_list=tf.train.Int64List(value=[value]))\n",
    "\n",
    "def _bytes_feature(value: bytes) -> tf.train.Feature:\n",
    "    return tf.train.Feature(bytes_list=tf.train.BytesList(value=[value]))\n",
    "\n",
    "def convert_to_tfrecord(dataset: Union[List, np.ndarray], dataset_name: str, data_dir: Path, segments: int=1):\n",
    "    \n",
    "    if not isinstance(dataset, np.ndarray):\n",
    "        dataset = np.array(dataset)\n",
    "    \n",
    "    def _to_record(dataset, name):\n",
    "        with tf.python_io.TFRecordWriter(name) as writer:\n",
    "            dataset_length = len(dataset)\n",
    "            for index, (filename, label) in enumerate(dataset):\n",
    "                sys.stdout.write(f\"\\rProcessing sample {index+1} of {dataset_length}\")\n",
    "                sys.stdout.flush()\n",
    "                \n",
    "                # Open and make images constant size\n",
    "                image = Image.open(filename).resize((224, 224))\n",
    "                \n",
    "                # Normalize image to -0.5 -> 0.5 and get bytes\n",
    "                image_raw = ((np.array(image) / 255.) - 0.5).astype(np.float32).tobytes() \n",
    "                \n",
    "                features = {\n",
    "                    'image': _bytes_feature(image_raw),\n",
    "                    'label': _int64_feature(label)\n",
    "                }\n",
    "                \n",
    "                example = tf.train.Example(features=tf.train.Features(feature=features))\n",
    "                writer.write(example.SerializeToString())\n",
    "            print()\n",
    "    \n",
    "    for index, dataset_segment in enumerate(np.array_split(dataset, segments)):\n",
    "        filename = f'{dataset_name}-{index}.tfrecord'\n",
    "        print(f'Generating records into {filename}')\n",
    "        _to_record(dataset_segment, str(data_dir / filename))"
   ]
  },
  {
   "cell_type": "code",
   "execution_count": 22,
   "metadata": {},
   "outputs": [],
   "source": [
    "def labeled_dataset(dataset_dir: Path, has_labels: bool=True) -> List[Tuple[Path, int]]:\n",
    "    files = list(dataset_dir.rglob('*.jpg'))\n",
    "    \n",
    "    if has_labels:\n",
    "        labels = [class2idx[p.parts[-2]] for p in files]\n",
    "    else:\n",
    "        labels = [-1] * len(files)\n",
    "    \n",
    "    return list(zip(files, labels))\n",
    "\n",
    "train_dataset = labeled_dataset(train_data_dir)\n",
    "dev_dataset = labeled_dataset(dev_data_dir)\n",
    "validation_dataset = labeled_dataset(validation_data_dir)\n",
    "test_dataset = labeled_dataset(test_data_dir, has_labels=False)"
   ]
  },
  {
   "cell_type": "code",
   "execution_count": 23,
   "metadata": {},
   "outputs": [
    {
     "name": "stdout",
     "output_type": "stream",
     "text": [
      "Generating records into dev-0.tfrecord\n",
      "Processing sample 10 of 10\n"
     ]
    }
   ],
   "source": [
    "convert_to_tfrecord(dev_dataset, 'dev', data_dir)"
   ]
  },
  {
   "cell_type": "code",
   "execution_count": 8,
   "metadata": {},
   "outputs": [
    {
     "name": "stdout",
     "output_type": "stream",
     "text": [
      "Generating records into validation-0.tfrecord\n",
      "Processing sample 2750 of 2750\n",
      "Generating records into validation-1.tfrecord\n",
      "Processing sample 2750 of 2750\n",
      "Generating records into validation-2.tfrecord\n",
      "Processing sample 2750 of 2750\n"
     ]
    }
   ],
   "source": [
    "convert_to_tfrecord(validation_dataset, 'validation', data_dir, segments=3)"
   ]
  },
  {
   "cell_type": "code",
   "execution_count": 9,
   "metadata": {},
   "outputs": [
    {
     "name": "stdout",
     "output_type": "stream",
     "text": [
      "Generating records into train-0.tfrecord\n",
      "Processing sample 1675 of 1675\n",
      "Generating records into train-1.tfrecord\n",
      "Processing sample 1675 of 1675\n",
      "Generating records into train-2.tfrecord\n",
      "Processing sample 1675 of 1675\n",
      "Generating records into train-3.tfrecord\n",
      "Processing sample 1675 of 1675\n",
      "Generating records into train-4.tfrecord\n",
      "Processing sample 1675 of 1675\n",
      "Generating records into train-5.tfrecord\n",
      "Processing sample 1675 of 1675\n",
      "Generating records into train-6.tfrecord\n",
      "Processing sample 1675 of 1675\n",
      "Generating records into train-7.tfrecord\n",
      "Processing sample 1675 of 1675\n",
      "Generating records into train-8.tfrecord\n",
      "Processing sample 1675 of 1675\n",
      "Generating records into train-9.tfrecord\n",
      "Processing sample 1675 of 1675\n"
     ]
    }
   ],
   "source": [
    "convert_to_tfrecord(train_dataset, 'train', data_dir, segments=10)"
   ]
  },
  {
   "cell_type": "code",
   "execution_count": 10,
   "metadata": {},
   "outputs": [
    {
     "name": "stdout",
     "output_type": "stream",
     "text": [
      "Generating records into test-0.tfrecord\n",
      "Processing sample 4167 of 4167\n",
      "Generating records into test-1.tfrecord\n",
      "Processing sample 4167 of 4167\n",
      "Generating records into test-2.tfrecord\n",
      "Processing sample 4166 of 4166\n"
     ]
    }
   ],
   "source": [
    "convert_to_tfrecord(test_dataset, 'test', data_dir, segments=3)"
   ]
  },
  {
   "cell_type": "code",
   "execution_count": null,
   "metadata": {
    "collapsed": true
   },
   "outputs": [],
   "source": []
  }
 ],
 "metadata": {
  "kernelspec": {
   "display_name": "Python 3",
   "language": "python",
   "name": "python3"
  },
  "language_info": {
   "codemirror_mode": {
    "name": "ipython",
    "version": 3
   },
   "file_extension": ".py",
   "mimetype": "text/x-python",
   "name": "python",
   "nbconvert_exporter": "python",
   "pygments_lexer": "ipython3",
   "version": "3.6.3"
  }
 },
 "nbformat": 4,
 "nbformat_minor": 2
}
