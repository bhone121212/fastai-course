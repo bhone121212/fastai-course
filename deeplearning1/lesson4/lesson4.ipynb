{
 "cells": [
  {
   "cell_type": "code",
   "execution_count": 10,
   "metadata": {
    "collapsed": true
   },
   "outputs": [],
   "source": [
    "import os\n",
    "import urllib\n",
    "import zipfile\n",
    "import pandas as pd"
   ]
  },
  {
   "cell_type": "code",
   "execution_count": 8,
   "metadata": {
    "collapsed": true
   },
   "outputs": [],
   "source": [
    "data_directory = os.path.expanduser('~/data/fastai/lesson4')\n",
    "model_path = '/tmp/fastai/lesson4'\n",
    "\n",
    "if not os.path.isdir(data_directory):\n",
    "    os.makedirs(data_directory)\n",
    "if not os.path.isdir(model_path):\n",
    "    os.makedirs(model_path)\n",
    "    \n",
    "movielens_folder = os.path.join(data_directory, 'ml-latest-small')"
   ]
  },
  {
   "cell_type": "markdown",
   "metadata": {},
   "source": [
    "Download the dataset if we don't have it locally"
   ]
  },
  {
   "cell_type": "code",
   "execution_count": 9,
   "metadata": {
    "collapsed": true
   },
   "outputs": [],
   "source": [
    "fallback_url = 'http://files.grouplens.org/datasets/movielens/ml-latest-small.zip'\n",
    "\n",
    "if not os.path.isdir(movielens_folder):\n",
    "    local_zip_path = os.path.join(data_directory, os.path.basename(fallback_url))\n",
    "    if not os.path.isfile(local_zip_path):\n",
    "        # Download zip file\n",
    "        urllib.request.urlretrieve(fallback_url, local_zip_path)\n",
    "    # Unzip file\n",
    "    with zipfile.ZipFile(local_zip_path, 'r') as z:\n",
    "        z.extractall(data_directory)"
   ]
  },
  {
   "cell_type": "markdown",
   "metadata": {},
   "source": [
    "## Data setup"
   ]
  },
  {
   "cell_type": "code",
   "execution_count": 25,
   "metadata": {},
   "outputs": [
    {
     "data": {
      "text/html": [
       "<div>\n",
       "<style>\n",
       "    .dataframe thead tr:only-child th {\n",
       "        text-align: right;\n",
       "    }\n",
       "\n",
       "    .dataframe thead th {\n",
       "        text-align: left;\n",
       "    }\n",
       "\n",
       "    .dataframe tbody tr th {\n",
       "        vertical-align: top;\n",
       "    }\n",
       "</style>\n",
       "<table border=\"1\" class=\"dataframe\">\n",
       "  <thead>\n",
       "    <tr style=\"text-align: right;\">\n",
       "      <th></th>\n",
       "      <th>userId</th>\n",
       "      <th>movieId</th>\n",
       "      <th>rating</th>\n",
       "    </tr>\n",
       "  </thead>\n",
       "  <tbody>\n",
       "    <tr>\n",
       "      <th>0</th>\n",
       "      <td>1</td>\n",
       "      <td>31</td>\n",
       "      <td>2.5</td>\n",
       "    </tr>\n",
       "    <tr>\n",
       "      <th>1</th>\n",
       "      <td>1</td>\n",
       "      <td>1029</td>\n",
       "      <td>3.0</td>\n",
       "    </tr>\n",
       "    <tr>\n",
       "      <th>2</th>\n",
       "      <td>1</td>\n",
       "      <td>1061</td>\n",
       "      <td>3.0</td>\n",
       "    </tr>\n",
       "    <tr>\n",
       "      <th>3</th>\n",
       "      <td>1</td>\n",
       "      <td>1129</td>\n",
       "      <td>2.0</td>\n",
       "    </tr>\n",
       "    <tr>\n",
       "      <th>4</th>\n",
       "      <td>1</td>\n",
       "      <td>1172</td>\n",
       "      <td>4.0</td>\n",
       "    </tr>\n",
       "  </tbody>\n",
       "</table>\n",
       "</div>"
      ],
      "text/plain": [
       "   userId  movieId  rating\n",
       "0       1       31     2.5\n",
       "1       1     1029     3.0\n",
       "2       1     1061     3.0\n",
       "3       1     1129     2.0\n",
       "4       1     1172     4.0"
      ]
     },
     "execution_count": 25,
     "metadata": {},
     "output_type": "execute_result"
    }
   ],
   "source": [
    "ratings_path = os.path.join(movielens_folder, 'ratings.csv')\n",
    "ratings = pd.read_csv(ratings_path)\n",
    "ratings = ratings.drop(['timestamp'], axis=1)\n",
    "ratings.head()"
   ]
  },
  {
   "cell_type": "code",
   "execution_count": 26,
   "metadata": {},
   "outputs": [
    {
     "data": {
      "text/plain": [
       "100004"
      ]
     },
     "execution_count": 26,
     "metadata": {},
     "output_type": "execute_result"
    }
   ],
   "source": [
    "len(ratings)"
   ]
  },
  {
   "cell_type": "code",
   "execution_count": 27,
   "metadata": {
    "collapsed": true
   },
   "outputs": [],
   "source": [
    "movies_path = os.path.join(movielens_folder, 'movies.csv')\n",
    "movie_names = pd.read_csv(movies_path, index_col='movieId')['title'].to_dict()"
   ]
  },
  {
   "cell_type": "code",
   "execution_count": 28,
   "metadata": {
    "collapsed": true
   },
   "outputs": [],
   "source": [
    "users = ratings['userId'].unique()\n",
    "movies = ratings['movieId'].unique()"
   ]
  },
  {
   "cell_type": "code",
   "execution_count": 29,
   "metadata": {
    "collapsed": true
   },
   "outputs": [],
   "source": [
    "userid2idx = { userId: index for index, userId in enumerate(users) }\n",
    "movieid2idx = { movieId: index for index, movieId in enumerate(movies) }"
   ]
  },
  {
   "cell_type": "code",
   "execution_count": 30,
   "metadata": {
    "collapsed": true
   },
   "outputs": [],
   "source": [
    "# TODO: write index to user and movie label metadata to model folder for tensorboard to use and display"
   ]
  },
  {
   "cell_type": "markdown",
   "metadata": {},
   "source": [
    "Update movie and user Ids in ratings to be the index so we have a contiguous integer range for embeddings"
   ]
  },
  {
   "cell_type": "code",
   "execution_count": 31,
   "metadata": {
    "collapsed": true
   },
   "outputs": [],
   "source": [
    "ratings['userId'] = ratings['userId'].apply(userid2idx.get)\n",
    "ratings['movieId'] = ratings['movieId'].apply(movieid2idx.get)"
   ]
  },
  {
   "cell_type": "code",
   "execution_count": 32,
   "metadata": {},
   "outputs": [
    {
     "data": {
      "text/html": [
       "<div>\n",
       "<style>\n",
       "    .dataframe thead tr:only-child th {\n",
       "        text-align: right;\n",
       "    }\n",
       "\n",
       "    .dataframe thead th {\n",
       "        text-align: left;\n",
       "    }\n",
       "\n",
       "    .dataframe tbody tr th {\n",
       "        vertical-align: top;\n",
       "    }\n",
       "</style>\n",
       "<table border=\"1\" class=\"dataframe\">\n",
       "  <thead>\n",
       "    <tr style=\"text-align: right;\">\n",
       "      <th></th>\n",
       "      <th>userId</th>\n",
       "      <th>movieId</th>\n",
       "      <th>rating</th>\n",
       "    </tr>\n",
       "  </thead>\n",
       "  <tbody>\n",
       "    <tr>\n",
       "      <th>0</th>\n",
       "      <td>0</td>\n",
       "      <td>0</td>\n",
       "      <td>2.5</td>\n",
       "    </tr>\n",
       "    <tr>\n",
       "      <th>1</th>\n",
       "      <td>0</td>\n",
       "      <td>1</td>\n",
       "      <td>3.0</td>\n",
       "    </tr>\n",
       "    <tr>\n",
       "      <th>2</th>\n",
       "      <td>0</td>\n",
       "      <td>2</td>\n",
       "      <td>3.0</td>\n",
       "    </tr>\n",
       "    <tr>\n",
       "      <th>3</th>\n",
       "      <td>0</td>\n",
       "      <td>3</td>\n",
       "      <td>2.0</td>\n",
       "    </tr>\n",
       "    <tr>\n",
       "      <th>4</th>\n",
       "      <td>0</td>\n",
       "      <td>4</td>\n",
       "      <td>4.0</td>\n",
       "    </tr>\n",
       "  </tbody>\n",
       "</table>\n",
       "</div>"
      ],
      "text/plain": [
       "   userId  movieId  rating\n",
       "0       0        0     2.5\n",
       "1       0        1     3.0\n",
       "2       0        2     3.0\n",
       "3       0        3     2.0\n",
       "4       0        4     4.0"
      ]
     },
     "execution_count": 32,
     "metadata": {},
     "output_type": "execute_result"
    }
   ],
   "source": [
    "ratings.head()"
   ]
  },
  {
   "cell_type": "markdown",
   "metadata": {},
   "source": [
    "## Neural Net"
   ]
  },
  {
   "cell_type": "code",
   "execution_count": 18,
   "metadata": {},
   "outputs": [
    {
     "name": "stderr",
     "output_type": "stream",
     "text": [
      "/usr/local/Cellar/python3/3.6.3/Frameworks/Python.framework/Versions/3.6/lib/python3.6/importlib/_bootstrap.py:219: RuntimeWarning: compiletime version 3.5 of module 'tensorflow.python.framework.fast_tensor_util' does not match runtime version 3.6\n",
      "  return f(*args, **kwds)\n"
     ]
    }
   ],
   "source": [
    "import tensorflow as tf"
   ]
  },
  {
   "cell_type": "code",
   "execution_count": 19,
   "metadata": {},
   "outputs": [
    {
     "data": {
      "text/plain": [
       "'1.4.0-rc1'"
      ]
     },
     "execution_count": 19,
     "metadata": {},
     "output_type": "execute_result"
    }
   ],
   "source": [
    "tf.__version__"
   ]
  },
  {
   "cell_type": "code",
   "execution_count": 45,
   "metadata": {},
   "outputs": [],
   "source": [
    "x = ratings[['userId', 'movieId']]\n",
    "y = ratings['rating']\n",
    "train_input_fn = tf.estimator.inputs.pandas_input_fn(x, y=y, target_column='rating', shuffle=True, num_epochs=8)"
   ]
  },
  {
   "cell_type": "code",
   "execution_count": 46,
   "metadata": {
    "collapsed": true
   },
   "outputs": [],
   "source": [
    "user_embedding = tf.feature_column.embedding_column(\n",
    "    categorical_column=tf.feature_column.categorical_column_with_identity('userId', num_buckets=len(users), default_value=0), \n",
    "    dimension=50)\n",
    "movie_embedding = tf.feature_column.embedding_column(\n",
    "    categorical_column=tf.feature_column.categorical_column_with_identity('movieId', num_buckets=len(movies), default_value=0), \n",
    "    dimension=50)"
   ]
  },
  {
   "cell_type": "code",
   "execution_count": 50,
   "metadata": {},
   "outputs": [
    {
     "name": "stdout",
     "output_type": "stream",
     "text": [
      "INFO:tensorflow:Using default config.\n",
      "INFO:tensorflow:Using config: {'_model_dir': '/tmp/fastai/lesson4', '_tf_random_seed': None, '_save_summary_steps': 100, '_save_checkpoints_steps': None, '_save_checkpoints_secs': 600, '_session_config': None, '_keep_checkpoint_max': 5, '_keep_checkpoint_every_n_hours': 10000, '_log_step_count_steps': 100, '_service': None, '_cluster_spec': <tensorflow.python.training.server_lib.ClusterSpec object at 0x109355048>, '_task_type': 'worker', '_task_id': 0, '_master': '', '_is_chief': True, '_num_ps_replicas': 0, '_num_worker_replicas': 1}\n"
     ]
    }
   ],
   "source": [
    "estimator = tf.estimator.DNNRegressor(\n",
    "    feature_columns=[user_embedding, movie_embedding],\n",
    "    hidden_units=[70], \n",
    "    dropout=0.75,\n",
    "    optimizer=tf.train.AdamOptimizer(learning_rate=0.001),\n",
    "    model_dir=model_path\n",
    ")"
   ]
  },
  {
   "cell_type": "code",
   "execution_count": 51,
   "metadata": {
    "scrolled": true
   },
   "outputs": [
    {
     "name": "stdout",
     "output_type": "stream",
     "text": [
      "INFO:tensorflow:Create CheckpointSaverHook.\n",
      "INFO:tensorflow:Saving checkpoints for 1 into /tmp/fastai/lesson4/model.ckpt.\n",
      "INFO:tensorflow:loss = 1552.69, step = 1\n",
      "INFO:tensorflow:global_step/sec: 214.18\n",
      "INFO:tensorflow:loss = 903.199, step = 101 (0.469 sec)\n",
      "INFO:tensorflow:global_step/sec: 258.562\n",
      "INFO:tensorflow:loss = 382.138, step = 201 (0.387 sec)\n",
      "INFO:tensorflow:global_step/sec: 272.584\n",
      "INFO:tensorflow:loss = 302.374, step = 301 (0.366 sec)\n",
      "INFO:tensorflow:global_step/sec: 278.191\n",
      "INFO:tensorflow:loss = 313.725, step = 401 (0.359 sec)\n",
      "INFO:tensorflow:global_step/sec: 281.252\n",
      "INFO:tensorflow:loss = 274.853, step = 501 (0.356 sec)\n",
      "INFO:tensorflow:global_step/sec: 280.167\n",
      "INFO:tensorflow:loss = 233.222, step = 601 (0.357 sec)\n",
      "INFO:tensorflow:global_step/sec: 237.301\n",
      "INFO:tensorflow:loss = 179.12, step = 701 (0.422 sec)\n",
      "INFO:tensorflow:global_step/sec: 226.043\n",
      "INFO:tensorflow:loss = 248.087, step = 801 (0.444 sec)\n",
      "INFO:tensorflow:global_step/sec: 222.636\n",
      "INFO:tensorflow:loss = 207.675, step = 901 (0.447 sec)\n",
      "INFO:tensorflow:global_step/sec: 259.773\n",
      "INFO:tensorflow:loss = 200.518, step = 1001 (0.386 sec)\n",
      "INFO:tensorflow:global_step/sec: 251.223\n",
      "INFO:tensorflow:loss = 225.365, step = 1101 (0.397 sec)\n",
      "INFO:tensorflow:global_step/sec: 251.89\n",
      "INFO:tensorflow:loss = 210.854, step = 1201 (0.398 sec)\n",
      "INFO:tensorflow:global_step/sec: 221.262\n",
      "INFO:tensorflow:loss = 221.123, step = 1301 (0.451 sec)\n",
      "INFO:tensorflow:global_step/sec: 262.046\n",
      "INFO:tensorflow:loss = 189.176, step = 1401 (0.382 sec)\n",
      "INFO:tensorflow:global_step/sec: 267.918\n",
      "INFO:tensorflow:loss = 181.4, step = 1501 (0.373 sec)\n",
      "INFO:tensorflow:global_step/sec: 243.135\n",
      "INFO:tensorflow:loss = 253.253, step = 1601 (0.412 sec)\n",
      "INFO:tensorflow:global_step/sec: 242.89\n",
      "INFO:tensorflow:loss = 133.76, step = 1701 (0.411 sec)\n",
      "INFO:tensorflow:global_step/sec: 243.823\n",
      "INFO:tensorflow:loss = 169.297, step = 1801 (0.410 sec)\n",
      "INFO:tensorflow:global_step/sec: 235.45\n",
      "INFO:tensorflow:loss = 167.985, step = 1901 (0.425 sec)\n",
      "INFO:tensorflow:global_step/sec: 256.739\n",
      "INFO:tensorflow:loss = 164.621, step = 2001 (0.389 sec)\n",
      "INFO:tensorflow:global_step/sec: 266.868\n",
      "INFO:tensorflow:loss = 158.184, step = 2101 (0.374 sec)\n",
      "INFO:tensorflow:global_step/sec: 277.275\n",
      "INFO:tensorflow:loss = 189.87, step = 2201 (0.360 sec)\n",
      "INFO:tensorflow:global_step/sec: 263.623\n",
      "INFO:tensorflow:loss = 150.725, step = 2301 (0.379 sec)\n",
      "INFO:tensorflow:global_step/sec: 269.922\n",
      "INFO:tensorflow:loss = 159.102, step = 2401 (0.371 sec)\n",
      "INFO:tensorflow:global_step/sec: 248.273\n",
      "INFO:tensorflow:loss = 189.363, step = 2501 (0.403 sec)\n",
      "INFO:tensorflow:global_step/sec: 253.604\n",
      "INFO:tensorflow:loss = 151.088, step = 2601 (0.393 sec)\n",
      "INFO:tensorflow:global_step/sec: 274.674\n",
      "INFO:tensorflow:loss = 156.346, step = 2701 (0.364 sec)\n",
      "INFO:tensorflow:global_step/sec: 285.213\n",
      "INFO:tensorflow:loss = 149.607, step = 2801 (0.350 sec)\n",
      "INFO:tensorflow:global_step/sec: 258.427\n",
      "INFO:tensorflow:loss = 141.041, step = 2901 (0.387 sec)\n",
      "INFO:tensorflow:global_step/sec: 251.682\n",
      "INFO:tensorflow:loss = 177.747, step = 3001 (0.397 sec)\n",
      "INFO:tensorflow:global_step/sec: 278.555\n",
      "INFO:tensorflow:loss = 149.281, step = 3101 (0.360 sec)\n",
      "INFO:tensorflow:global_step/sec: 257.522\n",
      "INFO:tensorflow:loss = 177.947, step = 3201 (0.388 sec)\n",
      "INFO:tensorflow:global_step/sec: 252.497\n",
      "INFO:tensorflow:loss = 109.943, step = 3301 (0.396 sec)\n",
      "INFO:tensorflow:global_step/sec: 263.214\n",
      "INFO:tensorflow:loss = 132.476, step = 3401 (0.380 sec)\n",
      "INFO:tensorflow:global_step/sec: 272.734\n",
      "INFO:tensorflow:loss = 140.789, step = 3501 (0.366 sec)\n",
      "INFO:tensorflow:global_step/sec: 262.88\n",
      "INFO:tensorflow:loss = 147.599, step = 3601 (0.380 sec)\n",
      "INFO:tensorflow:global_step/sec: 279.278\n",
      "INFO:tensorflow:loss = 162.056, step = 3701 (0.358 sec)\n",
      "INFO:tensorflow:global_step/sec: 280.19\n",
      "INFO:tensorflow:loss = 141.161, step = 3801 (0.357 sec)\n",
      "INFO:tensorflow:global_step/sec: 278.958\n",
      "INFO:tensorflow:loss = 94.3899, step = 3901 (0.358 sec)\n",
      "INFO:tensorflow:global_step/sec: 277.709\n",
      "INFO:tensorflow:loss = 105.572, step = 4001 (0.360 sec)\n",
      "INFO:tensorflow:global_step/sec: 280.258\n",
      "INFO:tensorflow:loss = 140.738, step = 4101 (0.357 sec)\n",
      "INFO:tensorflow:global_step/sec: 284.094\n",
      "INFO:tensorflow:loss = 116.878, step = 4201 (0.352 sec)\n",
      "INFO:tensorflow:global_step/sec: 247.826\n",
      "INFO:tensorflow:loss = 114.202, step = 4301 (0.404 sec)\n",
      "INFO:tensorflow:global_step/sec: 266.275\n",
      "INFO:tensorflow:loss = 142.093, step = 4401 (0.375 sec)\n",
      "INFO:tensorflow:global_step/sec: 251.786\n",
      "INFO:tensorflow:loss = 125.869, step = 4501 (0.397 sec)\n",
      "INFO:tensorflow:global_step/sec: 259.214\n",
      "INFO:tensorflow:loss = 89.9343, step = 4601 (0.386 sec)\n",
      "INFO:tensorflow:global_step/sec: 277.33\n",
      "INFO:tensorflow:loss = 111.915, step = 4701 (0.360 sec)\n",
      "INFO:tensorflow:global_step/sec: 246.357\n",
      "INFO:tensorflow:loss = 112.454, step = 4801 (0.407 sec)\n",
      "INFO:tensorflow:global_step/sec: 252.049\n",
      "INFO:tensorflow:loss = 115.163, step = 4901 (0.396 sec)\n",
      "INFO:tensorflow:global_step/sec: 261.994\n",
      "INFO:tensorflow:loss = 110.159, step = 5001 (0.382 sec)\n",
      "INFO:tensorflow:global_step/sec: 258.004\n",
      "INFO:tensorflow:loss = 134.396, step = 5101 (0.387 sec)\n",
      "INFO:tensorflow:global_step/sec: 246.678\n",
      "INFO:tensorflow:loss = 118.6, step = 5201 (0.405 sec)\n",
      "INFO:tensorflow:global_step/sec: 262.86\n",
      "INFO:tensorflow:loss = 116.835, step = 5301 (0.380 sec)\n",
      "INFO:tensorflow:global_step/sec: 277.803\n",
      "INFO:tensorflow:loss = 107.476, step = 5401 (0.360 sec)\n",
      "INFO:tensorflow:global_step/sec: 271.456\n",
      "INFO:tensorflow:loss = 106.695, step = 5501 (0.368 sec)\n",
      "INFO:tensorflow:global_step/sec: 271.293\n",
      "INFO:tensorflow:loss = 102.435, step = 5601 (0.369 sec)\n",
      "INFO:tensorflow:global_step/sec: 247.296\n",
      "INFO:tensorflow:loss = 135.391, step = 5701 (0.405 sec)\n",
      "INFO:tensorflow:global_step/sec: 252.981\n",
      "INFO:tensorflow:loss = 110.177, step = 5801 (0.395 sec)\n",
      "INFO:tensorflow:global_step/sec: 264.861\n",
      "INFO:tensorflow:loss = 99.7661, step = 5901 (0.378 sec)\n",
      "INFO:tensorflow:global_step/sec: 276.351\n",
      "INFO:tensorflow:loss = 110.696, step = 6001 (0.361 sec)\n",
      "INFO:tensorflow:global_step/sec: 257.708\n",
      "INFO:tensorflow:loss = 76.5475, step = 6101 (0.389 sec)\n",
      "INFO:tensorflow:global_step/sec: 261.187\n",
      "INFO:tensorflow:loss = 40.439, step = 6201 (0.382 sec)\n",
      "INFO:tensorflow:Saving checkpoints for 6251 into /tmp/fastai/lesson4/model.ckpt.\n",
      "INFO:tensorflow:Loss for final step: 23.3045.\n"
     ]
    },
    {
     "data": {
      "text/plain": [
       "<tensorflow.python.estimator.canned.dnn.DNNRegressor at 0x1093551d0>"
      ]
     },
     "execution_count": 51,
     "metadata": {},
     "output_type": "execute_result"
    }
   ],
   "source": [
    "estimator.train(input_fn=train_input_fn)"
   ]
  },
  {
   "cell_type": "code",
   "execution_count": 52,
   "metadata": {},
   "outputs": [
    {
     "name": "stdout",
     "output_type": "stream",
     "text": [
      "INFO:tensorflow:Starting evaluation at 2017-10-25-04:38:03\n",
      "INFO:tensorflow:Restoring parameters from /tmp/fastai/lesson4/model.ckpt-6251\n",
      "INFO:tensorflow:Finished evaluation at 2017-10-25-04:38:12\n",
      "INFO:tensorflow:Saving dict for global step 6251: average_loss = 0.66668, global_step = 6251, loss = 85.3248\n"
     ]
    },
    {
     "data": {
      "text/plain": [
       "{'average_loss': 0.66668004, 'global_step': 6251, 'loss': 85.324806}"
      ]
     },
     "execution_count": 52,
     "metadata": {},
     "output_type": "execute_result"
    }
   ],
   "source": [
    "eval_input_fn = tf.estimator.inputs.pandas_input_fn(x, y=y, target_column='rating', shuffle=False, num_epochs=1)\n",
    "estimator.evaluate(input_fn=train_input_fn)"
   ]
  },
  {
   "cell_type": "code",
   "execution_count": null,
   "metadata": {
    "collapsed": true
   },
   "outputs": [],
   "source": []
  }
 ],
 "metadata": {
  "kernelspec": {
   "display_name": "Python 3",
   "language": "python",
   "name": "python3"
  },
  "language_info": {
   "codemirror_mode": {
    "name": "ipython",
    "version": 3
   },
   "file_extension": ".py",
   "mimetype": "text/x-python",
   "name": "python",
   "nbconvert_exporter": "python",
   "pygments_lexer": "ipython3",
   "version": "3.6.3"
  }
 },
 "nbformat": 4,
 "nbformat_minor": 2
}
